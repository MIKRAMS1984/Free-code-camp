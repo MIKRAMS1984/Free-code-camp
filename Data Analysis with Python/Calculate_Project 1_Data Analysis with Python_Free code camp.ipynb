{
 "cells": [
  {
   "cell_type": "markdown",
   "metadata": {},
   "source": [
    "#  Project 1_ Mean-Variance-Standard Deviation Calculator\n"
   ]
  },
  {
   "cell_type": "code",
   "execution_count": 1,
   "metadata": {},
   "outputs": [],
   "source": [
    "import numpy as np"
   ]
  },
  {
   "cell_type": "markdown",
   "metadata": {},
   "source": [
    "# Creating a kalkulator for statistikal parameters."
   ]
  },
  {
   "cell_type": "code",
   "execution_count": 2,
   "metadata": {},
   "outputs": [],
   "source": [
    "# def. fun.\n",
    "def calculate(num_list):\n",
    "    num_array = np.array(num_list)\n",
    "    if num_array.size != 9:\n",
    "        raise ValueError('List must contain nine numbers.')\n",
    "    else:\n",
    "        mat = np.array(num_array).reshape(3,3)\n",
    "        \n",
    "        # kalkulating mean\n",
    "        mean = np.mean(mat).tolist()\n",
    "        mean_axis0 = np.mean(mat, axis=0).tolist()\n",
    "        mean_axis1 = np.mean(mat, axis=1).tolist()\n",
    "        \n",
    "        #kalkulating var\n",
    "        var = np.var(mat).tolist()\n",
    "        var_axis0 = np.var(mat, axis=0).tolist()\n",
    "        var_axis1 = np.var(mat, axis=1).tolist()\n",
    "        \n",
    "        #std\n",
    "        std = np.std(mat).tolist()\n",
    "        std_axis0 = np.std(mat, axis=0).tolist()\n",
    "        std_axis1 = np.std(mat, axis=1).tolist()\n",
    "        \n",
    "        #max\n",
    "        max = np.max(mat).tolist()\n",
    "        max_axis0 = np.max(mat, axis=0).tolist()\n",
    "        max_axis1 = np.max(mat, axis=1).tolist()\n",
    "        \n",
    "        #min\n",
    "        min = np.min(mat).tolist()\n",
    "        min_axis0 = np.min(mat, axis=0).tolist()\n",
    "        min_axis1 = np.min(mat, axis=1).tolist()\n",
    "        \n",
    "        #sum\n",
    "        sum = np.sum(mat).tolist()\n",
    "        sum_axis0 = np.sum(mat, axis=0).tolist()\n",
    "        sum_axis1 = np.sum(mat, axis=1).tolist()\n",
    "        \n",
    "        stat_dict = {\n",
    "            'mean': [mean_axis0, mean_axis1, mean],\n",
    "            'variance': [var_axis0, var_axis1, var],\n",
    "            'standard deviation': [std_axis0, std_axis1, std],\n",
    "            'max': [max_axis0, max_axis1, max],\n",
    "            'min': [min_axis0, min_axis1, min],\n",
    "            'sum': [sum_axis0, sum_axis1, sum]\n",
    "    }\n",
    "    return stat_dict"
   ]
  },
  {
   "cell_type": "code",
   "execution_count": 3,
   "metadata": {},
   "outputs": [
    {
     "name": "stdout",
     "output_type": "stream",
     "text": [
      "array:[0 1 2 3 4 5 6 7 8], data type: int32\n",
      "list: [0, 1, 2, 3, 4, 5, 6, 7, 8], data type: <class 'list'>\n"
     ]
    },
    {
     "data": {
      "text/plain": [
       "{'mean': [[3.0, 4.0, 5.0], [1.0, 4.0, 7.0], 4.0],\n",
       " 'variance': [[6.0, 6.0, 6.0],\n",
       "  [0.6666666666666666, 0.6666666666666666, 0.6666666666666666],\n",
       "  6.666666666666667],\n",
       " 'standard deviation': [[2.449489742783178,\n",
       "   2.449489742783178,\n",
       "   2.449489742783178],\n",
       "  [0.816496580927726, 0.816496580927726, 0.816496580927726],\n",
       "  2.581988897471611],\n",
       " 'max': [[6, 7, 8], [2, 5, 8], 8],\n",
       " 'min': [[0, 1, 2], [0, 3, 6], 0],\n",
       " 'sum': [[9, 12, 15], [3, 12, 21], 36]}"
      ]
     },
     "execution_count": 3,
     "metadata": {},
     "output_type": "execute_result"
    }
   ],
   "source": [
    "# Kalling fun.\n",
    "\n",
    "# num_array = np.random.randint(1, 11, 9)\n",
    "num_array = np.array([0, 1, 2, 3, 4, 5, 6, 7, 8])\n",
    "print(f'array:{num_array},', 'data type:', num_array.dtype)\n",
    "num_list = num_array.tolist()\n",
    "print(f'list: {num_list},', 'data type:', type(num_list))\n",
    "\n",
    "stat_dict = calculate(num_list) \n",
    "stat_dict"
   ]
  }
 ],
 "metadata": {
  "kernelspec": {
   "display_name": "Python 3",
   "language": "python",
   "name": "python3"
  },
  "language_info": {
   "codemirror_mode": {
    "name": "ipython",
    "version": 3
   },
   "file_extension": ".py",
   "mimetype": "text/x-python",
   "name": "python",
   "nbconvert_exporter": "python",
   "pygments_lexer": "ipython3",
   "version": "3.11.4"
  }
 },
 "nbformat": 4,
 "nbformat_minor": 2
}
